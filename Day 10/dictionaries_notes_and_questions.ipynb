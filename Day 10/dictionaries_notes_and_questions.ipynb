{
 "cells": [
  {
   "cell_type": "markdown",
   "id": "0f5cfd54",
   "metadata": {},
   "source": [
    "# Notes on Python Dictionaries\n",
    "\n",
    "**What is a Dictionary?**  \n",
    "A dictionary is a collection of key-value pairs. It is unordered, mutable, and indexed by keys.\n",
    "\n",
    "**Syntax**\n",
    "```python\n",
    "my_dict = {\n",
    "    \"name\": \"Thapelo\",\n",
    "    \"age\": 24,\n",
    "    \"course\": \"Electrical Engineering\"\n",
    "}\n",
    "```\n",
    "\n",
    "**Key Features**\n",
    "- Keys must be unique.\n",
    "- Keys must be immutable (e.g., strings, numbers, tuples).\n",
    "- Values can be any type (string, int, list, another dict, etc).\n",
    "\n",
    "**Common Operations**\n",
    "\n",
    "- **Accessing Values**\n",
    "  ```python\n",
    "  print(my_dict[\"name\"])  # Output: Thapelo\n",
    "  ```\n",
    "\n",
    "- **Using `.get()`**\n",
    "  ```python\n",
    "  print(my_dict.get(\"gender\", \"Not found\"))  # Output: Not found\n",
    "  ```\n",
    "\n",
    "- **Changing Values**\n",
    "  ```python\n",
    "  my_dict[\"age\"] = 25\n",
    "  ```\n",
    "\n",
    "- **Adding New Items**\n",
    "  ```python\n",
    "  my_dict[\"gender\"] = \"Male\"\n",
    "  ```\n",
    "\n",
    "- **Removing Items**\n",
    "  ```python\n",
    "  my_dict.pop(\"age\")\n",
    "  del my_dict[\"course\"]\n",
    "  ```\n",
    "\n",
    "**Looping Through a Dictionary**\n",
    "\n",
    "- Loop through keys:\n",
    "  ```python\n",
    "  for key in my_dict:\n",
    "      print(key)\n",
    "  ```\n",
    "\n",
    "- Loop through values:\n",
    "  ```python\n",
    "  for value in my_dict.values():\n",
    "      print(value)\n",
    "  ```\n",
    "\n",
    "- Loop through key-value pairs:\n",
    "  ```python\n",
    "  for key, value in my_dict.items():\n",
    "      print(key, value)\n",
    "  ```\n",
    "\n",
    "**Useful Methods**\n",
    "\n",
    "| Method           | Description                      |\n",
    "|------------------|----------------------------------|\n",
    "| `.keys()`        | Returns all keys                 |\n",
    "| `.values()`      | Returns all values               |\n",
    "| `.items()`       | Returns all (key, value) pairs   |\n",
    "| `.get(key)`      | Returns value for key (or default) |\n",
    "| `.update(dict2)` | Updates with another dictionary  |\n",
    "| `.pop(key)`      | Removes and returns value by key |\n",
    "| `.clear()`       | Empties the dictionary           |\n",
    "\n",
    "**Nesting**\n",
    "\n",
    "```python\n",
    "students = {\n",
    "    \"student1\": {\"name\": \"Thapelo\", \"age\": 24},\n",
    "    \"student2\": {\"name\": \"Lebo\", \"age\": 22}\n",
    "}\n",
    "```\n"
   ]
  },
  {
   "cell_type": "markdown",
   "id": "4137a87d",
   "metadata": {},
   "source": [
    "# Practice Questions on Python Dictionaries\n",
    "\n",
    "## Beginner Questions\n",
    "\n",
    "1. **Create a dictionary for your favorite book**  \n",
    "   Create a dictionary with keys: `\"title\"`, `\"author\"`, `\"year\"`, and `\"pages\"`.\n",
    "\n",
    "2. **Accessing a value**  \n",
    "   Given:\n",
    "   ```python\n",
    "   car = {\n",
    "       \"brand\": \"Toyota\",\n",
    "       \"model\": \"Corolla\",\n",
    "       \"year\": 2020\n",
    "   }\n",
    "   ```\n",
    "   How would you print just the `model` of the car?\n",
    "\n",
    "3. **Add a new key-value pair**  \n",
    "   Using the `car` dictionary above, add a key `color` with the value `blue`.\n",
    "\n",
    "4. **Update a value**  \n",
    "   Change the `year` in the `car` dictionary to `2024`.\n",
    "\n",
    "5. **Remove a key-value pair**  \n",
    "   Remove the `model` from the `car` dictionary.\n",
    "\n",
    "## Looping Practice\n",
    "\n",
    "6. **Loop through dictionary**  \n",
    "   Given:\n",
    "   ```python\n",
    "   student = {\n",
    "       \"name\": \"Lebo\",\n",
    "       \"age\": 21,\n",
    "       \"grade\": \"A\"\n",
    "   }\n",
    "   ```\n",
    "   Write a loop that prints each key and its corresponding value.\n",
    "\n",
    "## Intermediate Questions\n",
    "\n",
    "7. **Use `.get()` method**  \n",
    "   Use `.get()` to safely access a key `email` in the `student` dictionary above. If it doesn't exist, return `\"No email found\"`.\n",
    "\n",
    "8. **Merging dictionaries**  \n",
    "   ```python\n",
    "   a = {\"x\": 1, \"y\": 2}\n",
    "   b = {\"y\": 3, \"z\": 4}\n",
    "   ```\n",
    "   Merge dictionaries `a` and `b` into one, and print the result.\n",
    "\n",
    "9. **Count word frequency**  \n",
    "   Write a program that takes a sentence and creates a dictionary where keys are words and values are the number of times each word appears.\n",
    "\n",
    "## Challenge\n",
    "\n",
    "10. **Nested dictionary**  \n",
    "    Create a dictionary of 3 students. Each student has their own dictionary with keys: `name`, `age`, and `marks`. Then, print the name and marks of each student.\n"
   ]
  },
  {
   "cell_type": "markdown",
   "id": "b84ca4d3",
   "metadata": {},
   "source": [
    "### Question 1"
   ]
  },
  {
   "cell_type": "code",
   "execution_count": null,
   "id": "82e417fe",
   "metadata": {},
   "outputs": [],
   "source": [
    "# Write your code here\n"
   ]
  },
  {
   "cell_type": "markdown",
   "id": "91ffbc18",
   "metadata": {},
   "source": [
    "### Question 2"
   ]
  },
  {
   "cell_type": "code",
   "execution_count": null,
   "id": "94a5e551",
   "metadata": {},
   "outputs": [],
   "source": [
    "# Write your code here\n"
   ]
  },
  {
   "cell_type": "markdown",
   "id": "aafc142e",
   "metadata": {},
   "source": [
    "### Question 3"
   ]
  },
  {
   "cell_type": "code",
   "execution_count": null,
   "id": "b3a1b179",
   "metadata": {},
   "outputs": [],
   "source": [
    "# Write your code here\n"
   ]
  },
  {
   "cell_type": "markdown",
   "id": "0b9e1a5b",
   "metadata": {},
   "source": [
    "### Question 4"
   ]
  },
  {
   "cell_type": "code",
   "execution_count": null,
   "id": "33943532",
   "metadata": {},
   "outputs": [],
   "source": [
    "# Write your code here\n"
   ]
  },
  {
   "cell_type": "markdown",
   "id": "c766716a",
   "metadata": {},
   "source": [
    "### Question 5"
   ]
  },
  {
   "cell_type": "code",
   "execution_count": null,
   "id": "e81fdae7",
   "metadata": {},
   "outputs": [],
   "source": [
    "# Write your code here\n"
   ]
  },
  {
   "cell_type": "markdown",
   "id": "0b296225",
   "metadata": {},
   "source": [
    "### Question 6"
   ]
  },
  {
   "cell_type": "code",
   "execution_count": null,
   "id": "c9721f57",
   "metadata": {},
   "outputs": [],
   "source": [
    "# Write your code here\n"
   ]
  },
  {
   "cell_type": "markdown",
   "id": "c806d4d9",
   "metadata": {},
   "source": [
    "### Question 7"
   ]
  },
  {
   "cell_type": "code",
   "execution_count": null,
   "id": "1c76e764",
   "metadata": {},
   "outputs": [],
   "source": [
    "# Write your code here\n"
   ]
  },
  {
   "cell_type": "markdown",
   "id": "988ae2c8",
   "metadata": {},
   "source": [
    "### Question 8"
   ]
  },
  {
   "cell_type": "code",
   "execution_count": null,
   "id": "e1526673",
   "metadata": {},
   "outputs": [],
   "source": [
    "# Write your code here\n"
   ]
  },
  {
   "cell_type": "markdown",
   "id": "264a42ac",
   "metadata": {},
   "source": [
    "### Question 9"
   ]
  },
  {
   "cell_type": "code",
   "execution_count": null,
   "id": "901551b0",
   "metadata": {},
   "outputs": [],
   "source": [
    "# Write your code here\n"
   ]
  },
  {
   "cell_type": "markdown",
   "id": "b9ea31ae",
   "metadata": {},
   "source": [
    "### Question 10"
   ]
  },
  {
   "cell_type": "code",
   "execution_count": null,
   "id": "9ecd696d",
   "metadata": {},
   "outputs": [],
   "source": [
    "# Write your code here\n"
   ]
  }
 ],
 "metadata": {},
 "nbformat": 4,
 "nbformat_minor": 5
}
