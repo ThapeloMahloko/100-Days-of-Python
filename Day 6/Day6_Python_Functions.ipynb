{
 "cells": [
  {
   "cell_type": "markdown",
   "id": "d548cf98",
   "metadata": {},
   "source": [
    "# Day 6: Understanding Python Functions"
   ]
  },
  {
   "cell_type": "markdown",
   "id": "7361bfb4",
   "metadata": {},
   "source": [
    "\n",
    "Functions are an essential part of Python programming. They allow us to reuse code, make programs more readable, and reduce errors.\n",
    "\n",
    "In this notebook, we will cover:\n",
    "1. Built-in Python functions\n",
    "2. Why functions are important\n",
    "3. How to define and use custom functions\n",
    "4. Exercises to practice functions\n"
   ]
  },
  {
   "cell_type": "markdown",
   "id": "96cfc7bf",
   "metadata": {},
   "source": [
    "## 1. Built-in Python Functions"
   ]
  },
  {
   "cell_type": "markdown",
   "id": "39b7969d",
   "metadata": {},
   "source": [
    "\n",
    "Python comes with many **built-in functions** that you can use directly without having to define them. \n",
    "Some examples include:\n",
    "- `print()`: Displays output on the screen\n",
    "- `len()`: Returns the length of a sequence\n",
    "- `type()`: Returns the type of an object\n",
    "- `sum()`: Adds elements in a list or tuple\n",
    "\n",
    "Here are a few examples:\n"
   ]
  },
  {
   "cell_type": "code",
   "execution_count": null,
   "id": "2ebe0758",
   "metadata": {},
   "outputs": [],
   "source": [
    "\n",
    "# Example 1: Using built-in functions\n",
    "print(\"Hello, World!\")  # Prints a message\n",
    "numbers = [1, 2, 3, 4, 5]\n",
    "print(\"Length of list:\", len(numbers))  # Finds the length of the list\n",
    "print(\"Sum of numbers:\", sum(numbers))  # Adds all numbers in the list\n",
    "print(\"Type of numbers:\", type(numbers))  # Returns the type of the object\n"
   ]
  },
  {
   "cell_type": "markdown",
   "id": "a80e3b13",
   "metadata": {},
   "source": [
    "## 2. Why Functions are Important"
   ]
  },
  {
   "cell_type": "markdown",
   "id": "916ea16b",
   "metadata": {},
   "source": [
    "\n",
    "Functions play a vital role in programming for several reasons:\n",
    "1. **Reusability**: Write code once and reuse it multiple times.\n",
    "2. **Readability**: Break down programs into smaller, understandable blocks.\n",
    "3. **Maintainability**: Easier to update or debug specific parts of the program.\n",
    "4. **Modularity**: Dividing code into functions makes it more organized.\n",
    "\n",
    "For example, imagine you need to calculate the area of multiple rectangles. Instead of writing the formula multiple times, you can define a function and call it whenever needed.\n"
   ]
  },
  {
   "cell_type": "code",
   "execution_count": null,
   "id": "d6ae6c97",
   "metadata": {},
   "outputs": [],
   "source": [
    "\n",
    "# Without a function\n",
    "length1, width1 = 5, 10\n",
    "length2, width2 = 7, 3\n",
    "\n",
    "area1 = length1 * width1\n",
    "area2 = length2 * width2\n",
    "\n",
    "print(\"Area of rectangle 1:\", area1)\n",
    "print(\"Area of rectangle 2:\", area2)\n",
    "\n",
    "# With a function\n",
    "def calculate_area(length, width):\n",
    "    return length * width\n",
    "\n",
    "# Reuse the function\n",
    "print(\"Area of rectangle 1:\", calculate_area(5, 10))\n",
    "print(\"Area of rectangle 2:\", calculate_area(7, 3))\n"
   ]
  },
  {
   "cell_type": "markdown",
   "id": "3ebacb6f",
   "metadata": {},
   "source": [
    "## 3. Building Custom Functions"
   ]
  },
  {
   "cell_type": "markdown",
   "id": "6ada5ce4",
   "metadata": {},
   "source": [
    "\n",
    "You can define your own functions in Python using the `def` keyword. The general syntax is:\n",
    "\n",
    "```python\n",
    "def function_name(parameters):\n",
    "    # Code block\n",
    "    return result\n",
    "```\n",
    "\n",
    "### Example: A Simple Greeting Function\n"
   ]
  },
  {
   "cell_type": "code",
   "execution_count": null,
   "id": "94247513",
   "metadata": {},
   "outputs": [],
   "source": [
    "\n",
    "# Defining a function\n",
    "def greet(name):\n",
    "    return f\"Hello, {name}!\"\n",
    "\n",
    "# Calling the function\n",
    "print(greet(\"Thapelo\"))\n",
    "print(greet(\"Python Learner\"))\n"
   ]
  },
  {
   "cell_type": "markdown",
   "id": "2594bd69",
   "metadata": {},
   "source": [
    "### Example: Function with Default Parameters"
   ]
  },
  {
   "cell_type": "code",
   "execution_count": null,
   "id": "67fad82d",
   "metadata": {},
   "outputs": [],
   "source": [
    "\n",
    "def greet(name=\"World\"):\n",
    "    return f\"Hello, {name}!\"\n",
    "\n",
    "print(greet())  # Uses the default value\n",
    "print(greet(\"Thapelo\"))  # Overrides the default value\n"
   ]
  },
  {
   "cell_type": "markdown",
   "id": "e6199ff6",
   "metadata": {},
   "source": [
    "### Example: Function with Multiple Parameters"
   ]
  },
  {
   "cell_type": "code",
   "execution_count": null,
   "id": "0fd2d1df",
   "metadata": {},
   "outputs": [],
   "source": [
    "\n",
    "def calculate_area(length, width):\n",
    "    return length * width\n",
    "\n",
    "# Passing multiple parameters\n",
    "print(\"Area:\", calculate_area(10, 5))\n"
   ]
  },
  {
   "cell_type": "markdown",
   "id": "9ea57a27",
   "metadata": {},
   "source": [
    "## 4. Practice Exercises"
   ]
  },
  {
   "cell_type": "markdown",
   "id": "80ca2f1c",
   "metadata": {},
   "source": [
    "\n",
    "1. Write a function `is_even(number)` that returns `True` if a number is even and `False` otherwise.\n",
    "\n",
    "2. Write a function `convert_to_celsius(fahrenheit)` that converts a temperature from Fahrenheit to Celsius using the formula:\n",
    "   \\[ C = \f",
    "rac{5}{9} \times (F - 32) \\]\n",
    "\n",
    "3. Write a function `factorial(n)` to calculate the factorial of a number. (Hint: Use a loop or recursion.)\n"
   ]
  },
  {
   "cell_type": "code",
   "execution_count": null,
   "id": "ed665538",
   "metadata": {},
   "outputs": [],
   "source": [
    "\n",
    "# Solution 1: Check if a number is even\n",
    "def is_even(number):\n",
    "    return number % 2 == 0\n",
    "\n",
    "print(is_even(4))  # True\n",
    "print(is_even(7))  # False\n"
   ]
  },
  {
   "cell_type": "code",
   "execution_count": null,
   "id": "74934429",
   "metadata": {},
   "outputs": [],
   "source": [
    "\n",
    "# Solution 2: Convert Fahrenheit to Celsius\n",
    "def convert_to_celsius(fahrenheit):\n",
    "    return (5/9) * (fahrenheit - 32)\n",
    "\n",
    "print(convert_to_celsius(98.6))  # 37.0\n"
   ]
  },
  {
   "cell_type": "code",
   "execution_count": null,
   "id": "19b53133",
   "metadata": {},
   "outputs": [],
   "source": [
    "\n",
    "# Solution 3: Factorial of a number\n",
    "def factorial(n):\n",
    "    result = 1\n",
    "    for i in range(1, n + 1):\n",
    "        result *= i\n",
    "    return result\n",
    "\n",
    "print(factorial(5))  # 120\n"
   ]
  },
  {
   "cell_type": "markdown",
   "id": "703e2fb7",
   "metadata": {},
   "source": [
    "\n",
    "## Summary\n",
    "- Python provides many built-in functions like `print()`, `len()`, and `sum()` for common tasks.\n",
    "- Functions help to improve code reusability, readability, and maintainability.\n",
    "- You can define custom functions using the `def` keyword.\n",
    "- Practice writing functions to solidify your understanding.\n",
    "\n",
    "Great work on completing Day 6! 🎉\n"
   ]
  }
 ],
 "metadata": {},
 "nbformat": 4,
 "nbformat_minor": 5
}
