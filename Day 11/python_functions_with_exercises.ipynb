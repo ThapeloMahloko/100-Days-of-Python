{
 "cells": [
  {
   "cell_type": "markdown",
   "id": "813fca98",
   "metadata": {},
   "source": [
    "# 📘 Python Functions with Exercises"
   ]
  },
  {
   "cell_type": "markdown",
   "id": "92b83480",
   "metadata": {},
   "source": [
    "This notebook covers Python functions, including definitions, parameters, return values, and lambda functions. Each section includes exercises to help you practice."
   ]
  },
  {
   "cell_type": "markdown",
   "id": "a7ae49c8",
   "metadata": {},
   "source": [
    "## 🔹 What is a Function?\n",
    "A **function** is a block of reusable code that performs a specific task."
   ]
  },
  {
   "cell_type": "markdown",
   "id": "fb7504b0",
   "metadata": {},
   "source": [
    "## 🛠️ Defining a Function"
   ]
  },
  {
   "cell_type": "code",
   "execution_count": null,
   "id": "f953aca4",
   "metadata": {},
   "outputs": [],
   "source": [
    "def greet():\n",
    "    print(\"Hello, world!\")"
   ]
  },
  {
   "cell_type": "markdown",
   "id": "ba8247c2",
   "metadata": {},
   "source": [
    "### ✅ Exercise 1\n",
    "Create a function named `welcome` that prints **\"Welcome to Python!\"** when called."
   ]
  },
  {
   "cell_type": "markdown",
   "id": "734d3a49",
   "metadata": {},
   "source": [
    "## 🔸 Function with Parameters"
   ]
  },
  {
   "cell_type": "code",
   "execution_count": null,
   "id": "cbd431b8",
   "metadata": {},
   "outputs": [],
   "source": [
    "def greet(name):\n",
    "    print(f\"Hello, {name}!\")\n",
    "\n",
    "greet(\"Thapelo\")"
   ]
  },
  {
   "cell_type": "markdown",
   "id": "a32f04ec",
   "metadata": {},
   "source": [
    "### ✅ Exercise 2\n",
    "Write a function called `display_age` that takes a name and an age as arguments and prints:\n",
    "`\"<name> is <age> years old.\"`"
   ]
  },
  {
   "cell_type": "markdown",
   "id": "dc6eb31b",
   "metadata": {},
   "source": [
    "## 🔸 Function with Default Parameters"
   ]
  },
  {
   "cell_type": "code",
   "execution_count": null,
   "id": "5afb068d",
   "metadata": {},
   "outputs": [],
   "source": [
    "def greet(name=\"Guest\"):\n",
    "    print(f\"Hello, {name}!\")"
   ]
  },
  {
   "cell_type": "markdown",
   "id": "ad952239",
   "metadata": {},
   "source": [
    "### ✅ Exercise 3\n",
    "Modify the `display_age` function to use `\"Unknown\"` as the default name and `0` as the default age."
   ]
  },
  {
   "cell_type": "markdown",
   "id": "3f293efb",
   "metadata": {},
   "source": [
    "## 🔸 Function with Return Value"
   ]
  },
  {
   "cell_type": "code",
   "execution_count": null,
   "id": "11da2cae",
   "metadata": {},
   "outputs": [],
   "source": [
    "def add(a, b):\n",
    "    return a + b"
   ]
  },
  {
   "cell_type": "markdown",
   "id": "c3e02ff9",
   "metadata": {},
   "source": [
    "### ✅ Exercise 4\n",
    "Create a function called `area_of_rectangle(length, width)` that returns the area."
   ]
  },
  {
   "cell_type": "markdown",
   "id": "8d24eaf2",
   "metadata": {},
   "source": [
    "## 🔸 Multiple Return Values"
   ]
  },
  {
   "cell_type": "code",
   "execution_count": null,
   "id": "0a1090ca",
   "metadata": {},
   "outputs": [],
   "source": [
    "def operations(a, b):\n",
    "    return a + b, a - b, a * b"
   ]
  },
  {
   "cell_type": "markdown",
   "id": "79705bb3",
   "metadata": {},
   "source": [
    "### ✅ Exercise 5\n",
    "Create a function `calc(a, b)` that returns the quotient and remainder of `a` divided by `b`."
   ]
  },
  {
   "cell_type": "markdown",
   "id": "1de14325",
   "metadata": {},
   "source": [
    "## 🔸 Keyword vs Positional Arguments"
   ]
  },
  {
   "cell_type": "code",
   "execution_count": null,
   "id": "c72fd277",
   "metadata": {},
   "outputs": [],
   "source": [
    "def info(name, age):\n",
    "    print(f\"{name} is {age} years old.\")"
   ]
  },
  {
   "cell_type": "markdown",
   "id": "5ac7b6f6",
   "metadata": {},
   "source": [
    "### ✅ Exercise 6\n",
    "Call your `info` function using both positional and keyword arguments."
   ]
  },
  {
   "cell_type": "markdown",
   "id": "3e71c2a1",
   "metadata": {},
   "source": [
    "## 🔸 Variable Number of Arguments"
   ]
  },
  {
   "cell_type": "code",
   "execution_count": null,
   "id": "58865eb4",
   "metadata": {},
   "outputs": [],
   "source": [
    "def sum_all(*args):\n",
    "    return sum(args)\n",
    "\n",
    "def print_info(**kwargs):\n",
    "    for key, value in kwargs.items():\n",
    "        print(f\"{key}: {value}\")"
   ]
  },
  {
   "cell_type": "markdown",
   "id": "dfef592c",
   "metadata": {},
   "source": [
    "### ✅ Exercise 7\n",
    "1. Create a function `multiply_all(*args)` that multiplies all the given numbers.\n",
    "2. Create a function `student_profile(**kwargs)` that prints all the keyword arguments as student details."
   ]
  },
  {
   "cell_type": "markdown",
   "id": "643b1bb4",
   "metadata": {},
   "source": [
    "## 🔸 Lambda (Anonymous) Functions"
   ]
  },
  {
   "cell_type": "code",
   "execution_count": null,
   "id": "c9f5808c",
   "metadata": {},
   "outputs": [],
   "source": [
    "square = lambda x: x * x\n",
    "print(square(5))"
   ]
  },
  {
   "cell_type": "markdown",
   "id": "fc6b9756",
   "metadata": {},
   "source": [
    "### ✅ Exercise 8\n",
    "Write a lambda function to:\n",
    "- Add two numbers.\n",
    "- Return the length of a string.\n",
    "- Check if a number is even."
   ]
  }
 ],
 "metadata": {},
 "nbformat": 4,
 "nbformat_minor": 5
}
