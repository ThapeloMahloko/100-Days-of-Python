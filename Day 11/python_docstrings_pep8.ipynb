{
 "cells": [
  {
   "cell_type": "markdown",
   "id": "9558895f",
   "metadata": {},
   "source": [
    "# 📘 Docstrings in Python (PEP 8 Guidelines)"
   ]
  },
  {
   "cell_type": "markdown",
   "id": "6793e418",
   "metadata": {},
   "source": [
    "### 🔹 What is a Docstring?\n",
    "A **docstring** is a string literal that appears as the first statement in a module, function, class, or method definition. It is used to document what the function/class/module does."
   ]
  },
  {
   "cell_type": "code",
   "execution_count": null,
   "id": "8b665ad1",
   "metadata": {},
   "outputs": [],
   "source": [
    "def greet(name):\n",
    "    \"\"\"Greet a person by name.\"\"\"\n",
    "    print(f\"Hello, {name}!\")"
   ]
  },
  {
   "cell_type": "markdown",
   "id": "2c227728",
   "metadata": {},
   "source": [
    "### 🔸 PEP 8 Guidelines for Docstrings\n",
    "\n",
    "**PEP 8** refers to **PEP 257** for docstring conventions. Here are the key points:\n",
    "\n",
    "#### ✅ General Rules:\n",
    "- Use **triple double quotes**: `\"\"\"...\"\"\"`\n",
    "- Start with a **short summary** of the function's purpose.\n",
    "- Add a **blank line** before additional details (if needed).\n",
    "- Keep lines **within 72 characters** if possible.\n",
    "- Docstrings should be in **English**, unless writing for a localized audience."
   ]
  },
  {
   "cell_type": "markdown",
   "id": "e8c21399",
   "metadata": {},
   "source": [
    "### 🔸 Function Docstring Format (PEP 257 style)"
   ]
  },
  {
   "cell_type": "code",
   "execution_count": null,
   "id": "3a7a245b",
   "metadata": {},
   "outputs": [],
   "source": [
    "def add(a, b):\n",
    "    \"\"\"\n",
    "    Add two numbers.\n",
    "\n",
    "    Parameters:\n",
    "    a (int): The first number.\n",
    "    b (int): The second number.\n",
    "\n",
    "    Returns:\n",
    "    int: The sum of the two numbers.\n",
    "    \"\"\"\n",
    "    return a + b"
   ]
  },
  {
   "cell_type": "markdown",
   "id": "d5aebc4d",
   "metadata": {},
   "source": [
    "### 🔸 Class Docstring Example"
   ]
  },
  {
   "cell_type": "code",
   "execution_count": null,
   "id": "ead8f79a",
   "metadata": {},
   "outputs": [],
   "source": [
    "class Person:\n",
    "    \"\"\"\n",
    "    A class to represent a person.\n",
    "\n",
    "    Attributes:\n",
    "    name (str): The name of the person.\n",
    "    age (int): The age of the person.\n",
    "    \"\"\"\n",
    "\n",
    "    def __init__(self, name, age):\n",
    "        \"\"\"Initialize name and age attributes.\"\"\"\n",
    "        self.name = name\n",
    "        self.age = age"
   ]
  },
  {
   "cell_type": "markdown",
   "id": "69a2fab6",
   "metadata": {},
   "source": [
    "### 🔸 One-liner Docstrings"
   ]
  },
  {
   "cell_type": "code",
   "execution_count": null,
   "id": "26bcff4e",
   "metadata": {},
   "outputs": [],
   "source": [
    "def square(x):\n",
    "    \"\"\"Return the square of x.\"\"\"\n",
    "    return x * x"
   ]
  },
  {
   "cell_type": "markdown",
   "id": "7e993e0b",
   "metadata": {},
   "source": [
    "### 🔸 Don't Do (Anti-patterns)\n",
    "\n",
    "❌ Don't use single quotes:\n",
    "```python\n",
    "def wrong():\n",
    "    '''Wrong docstring.'''\n",
    "    pass\n",
    "```\n",
    "\n",
    "❌ Don’t omit the description:\n",
    "```python\n",
    "def missing_doc():\n",
    "    \"\"\" \"\"\"\n",
    "    pass\n",
    "```"
   ]
  }
 ],
 "metadata": {},
 "nbformat": 4,
 "nbformat_minor": 5
}
