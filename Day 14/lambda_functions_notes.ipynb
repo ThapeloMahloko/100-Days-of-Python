{
 "cells": [
  {
   "cell_type": "markdown",
   "id": "c5b7b9d9",
   "metadata": {},
   "source": [
    "# Python Lambda Functions: A Practical Guide\n",
    "\n",
    "This notebook is a comprehensive guide to understanding and using Python lambda functions, with examples and exercises for hands-on learning."
   ]
  },
  {
   "cell_type": "markdown",
   "id": "c0dc697d",
   "metadata": {},
   "source": [
    "### 🧠 What is a Lambda Function?\n",
    "A **lambda function** is a small anonymous function in Python, typically used for short operations where using a full `def` function would be overkill.\n",
    "\n",
    "**Syntax:**\n",
    "```python\n",
    "lambda arguments: expression\n",
    "```\n",
    "\n",
    "- Can have any number of arguments, but **only one expression**.\n",
    "- The result of the expression is **automatically returned**.\n",
    "\n",
    "## 1. Import Required Libraries\n",
    "\n",
    "We will use functools for reduce and other built-in functions.\n"
   ]
  },
  {
   "cell_type": "markdown",
   "id": "2a221958",
   "metadata": {},
   "source": [
    "import functools\n",
    "\n",
    "### ✅ Basic Examples"
   ]
  },
  {
   "cell_type": "code",
   "execution_count": 8,
   "id": "7ac7ac09",
   "metadata": {},
   "outputs": [
    {
     "name": "stdout",
     "output_type": "stream",
     "text": [
      "15\n"
     ]
    }
   ],
   "source": [
    "# Add 10 to a number\n",
    "add_10 = lambda x: x + 10\n",
    "print(add_10(5))  # Output: 15\n"
   ]
  },
  {
   "cell_type": "code",
   "execution_count": 9,
   "id": "8f8e0146",
   "metadata": {},
   "outputs": [
    {
     "name": "stdout",
     "output_type": "stream",
     "text": [
      "12\n"
     ]
    }
   ],
   "source": [
    "# Multiply two numbers\n",
    "multiply = lambda x, y: x * y\n",
    "print(multiply(4, 3))  # Output: 12\n"
   ]
  },
  {
   "cell_type": "code",
   "execution_count": 10,
   "id": "73dd576a",
   "metadata": {},
   "outputs": [
    {
     "name": "stdout",
     "output_type": "stream",
     "text": [
      "True\n"
     ]
    }
   ],
   "source": [
    "# Check if a number is even\n",
    "is_even = lambda x: x % 2 == 0\n",
    "print(is_even(4))  # Output: True\n"
   ]
  },
  {
   "cell_type": "markdown",
   "id": "5630f38d",
   "metadata": {},
   "source": [
    "### ⚙️ Common Use Cases\n",
    "\n",
    "## 2. Defining Simple Lambda Functions\n",
    "\n",
    "A lambda function is a small anonymous function defined with the `lambda` keyword.\n",
    "\n",
    "**Syntax:**\n",
    "```python\n",
    "lambda arguments: expression\n",
    "```\n",
    "\n",
    "**Example:**"
   ]
  },
  {
   "cell_type": "markdown",
   "id": "fad45b83",
   "metadata": {},
   "source": [
    "#### 1. With `map()`\n",
    "\n",
    "# Simple lambda to add 2 to a number\n",
    "add_two = lambda x: x + 2\n",
    "print(add_two(5))  # Output: 7"
   ]
  },
  {
   "cell_type": "code",
   "execution_count": 11,
   "id": "0e0245b6",
   "metadata": {},
   "outputs": [
    {
     "name": "stdout",
     "output_type": "stream",
     "text": [
      "[1, 4, 9, 16]\n"
     ]
    }
   ],
   "source": [
    "nums = [1, 2, 3, 4]\n",
    "squared = list(map(lambda x: x ** 2, nums))\n",
    "print(squared)  # [1, 4, 9, 16]\n"
   ]
  },
  {
   "cell_type": "markdown",
   "id": "0ce23df1",
   "metadata": {},
   "source": [
    "#### 2. With `filter()`\n",
    "\n",
    "## 3. Lambda Functions with Multiple Arguments\n",
    "\n",
    "Lambda functions can take multiple arguments.\n",
    "\n",
    "**Example:**"
   ]
  },
  {
   "cell_type": "code",
   "execution_count": 12,
   "id": "627a0eff",
   "metadata": {},
   "outputs": [
    {
     "name": "stdout",
     "output_type": "stream",
     "text": [
      "[2, 4]\n"
     ]
    }
   ],
   "source": [
    "even_nums = list(filter(lambda x: x % 2 == 0, nums))\n",
    "print(even_nums)  # [2, 4]\n"
   ]
  },
  {
   "cell_type": "markdown",
   "id": "046051a4",
   "metadata": {},
   "source": [
    "#### 3. With `sorted()`\n",
    "\n",
    "```python\n",
    "# Lambda to add two numbers\n",
    "add = lambda x, y: x + y\n",
    "print(add(3, 4))  # Output: 7\n",
    "\n",
    "# Lambda to multiply three numbers\n",
    "multiply = lambda x, y, z: x * y * z\n",
    "print(multiply(2, 3, 4))  # Output: 24\n",
    "```"
   ]
  },
  {
   "cell_type": "code",
   "execution_count": 13,
   "id": "fd28fda9",
   "metadata": {},
   "outputs": [
    {
     "name": "stdout",
     "output_type": "stream",
     "text": [
      "[('Bob', 75), ('Alice', 88), ('Charlie', 93)]\n"
     ]
    }
   ],
   "source": [
    "students = [(\"Alice\", 88), (\"Bob\", 75), (\"Charlie\", 93)]\n",
    "sorted_students = sorted(students, key=lambda student: student[1])\n",
    "print(sorted_students)\n",
    "# [('Bob', 75), ('Alice', 88), ('Charlie', 93)]\n"
   ]
  },
  {
   "cell_type": "markdown",
   "id": "b78542f5",
   "metadata": {},
   "source": [
    "### 🧪 Practice Exercises\n",
    "\n",
    "## 4. Using Lambda Functions with Built-in Functions\n",
    "\n",
    "Lambda functions are often used as arguments to built-in functions like `sorted()`, `max()`, and `min()`.\n",
    "\n",
    "**Example:**"
   ]
  },
  {
   "cell_type": "markdown",
   "id": "575312d9",
   "metadata": {},
   "source": [
    "#### ✍️ Exercise 1\n",
    "Use a lambda function to cube each number in the list `[2, 3, 4, 5]` using `map()`.\n",
    "\n",
    "<details>\n",
    "<summary>💡 Hint</summary>\n",
    "Use: `map(lambda x: x ** 3, ...)`\n",
    "</details>\n",
    "\n",
    "# Using lambda with max()\n",
    "numbers = [1, 5, 3, 9, 2]\n",
    "max_num = max(numbers, key=lambda x: x)\n",
    "print(max_num)  # Output: 9\n",
    "\n",
    "# Using lambda with sorted()\n",
    "words = ['apple', 'banana', 'pear', 'kiwi']\n",
    "sorted_words = sorted(words, key=lambda x: len(x))\n",
    "print(sorted_words)  # Output: ['kiwi', 'pear', 'apple', 'banana']\n"
   ]
  },
  {
   "cell_type": "code",
   "execution_count": 14,
   "id": "825cc059",
   "metadata": {},
   "outputs": [
    {
     "name": "stdout",
     "output_type": "stream",
     "text": [
      "[8, 27, 64, 125]\n"
     ]
    }
   ],
   "source": [
    "cubes = list(map(lambda x: x**3, [2, 3, 4, 5]))\n",
    "print(cubes)  # [8, 27, 64, 125]"
   ]
  },
  {
   "cell_type": "markdown",
   "id": "49a3c899",
   "metadata": {},
   "source": [
    "#### ✍️ Exercise 2\n",
    "Filter out only names that start with the letter \"A\" from the list:\n",
    "```python\n",
    "names = [\"Alice\", \"Bob\", \"Alex\", \"Charlie\", \"Anna\"]\n",
    "```\n",
    "\n",
    "<details>\n",
    "<summary>💡 Hint</summary>\n",
    "Use: `filter(lambda x: x.startswith(\"A\"), ...)`\n",
    "</details>\n",
    "\n",
    "## 5. Lambda Functions in Sorting\n",
    "\n",
    "Lambda functions are useful for custom sorting, such as sorting a list of tuples or dictionaries.\n",
    "\n",
    "**Example:**\n",
    "\n",
    "```python\n",
    "data = [(1, 'one'), (3, 'three'), (2, 'two')]\n",
    "sorted_data = sorted(data, key=lambda x: x[1])\n",
    "print(sorted_data)\n",
    "```\n",
    "\n",
    "This will sort the list of tuples by the second element of each tuple (the string), resulting in:\n",
    "\n",
    "```\n",
    "[(1, 'one'), (3, 'three'), (2, 'two')]\n",
    "```\n"
   ]
  },
  {
   "cell_type": "code",
   "execution_count": 15,
   "id": "8f388715",
   "metadata": {},
   "outputs": [
    {
     "name": "stdout",
     "output_type": "stream",
     "text": [
      "['Kamo', 'Lerato', 'Raymond']\n"
     ]
    }
   ],
   "source": [
    "names = [\"Thapelo\", \"Tumi\", \"Kamo\", \"Lerato\", \"Raymond\", \"Thando\"]\n",
    "filtered_names = list(filter(lambda name: \"t\" != name[0].lower(), names))\n",
    "print(filtered_names)  # ['Thapelo', 'Tumi', 'Kamo', 'Lerato', 'Raymond', 'Thando']"
   ]
  },
  {
   "cell_type": "markdown",
   "id": "84e8c4cb",
   "metadata": {},
   "source": [
    "#### ✍️ Exercise 3\n",
    "Sort the following list of dictionaries by `age` using a lambda function:\n",
    "```python\n",
    "people = [\n",
    "    {\"name\": \"John\", \"age\": 45},\n",
    "    {\"name\": \"Emma\", \"age\": 30},\n",
    "    {\"name\": \"Dave\", \"age\": 50}\n",
    "]\n",
    "```\n",
    "\n",
    "# Sorting a list of tuples by the second element\n",
    "tuples = [(1, 3), (2, 2), (4, 1)]\n",
    "sorted_tuples = sorted(tuples, key=lambda x: x[1])\n",
    "print(sorted_tuples)  # Output: [(4, 1), (2, 2), (1, 3)]\n",
    "\n",
    "# Sorting a list of dictionaries by a value\n",
    "students = [\n",
    "    {'name': 'Alice', 'score': 88},\n",
    "    {'name': 'Bob', 'score': 95},\n",
    "    {'name': 'Charlie', 'score': 70}\n",
    "]\n",
    "sorted_students = sorted(students, key=lambda x: x['score'], reverse=True)\n",
    "print(sorted_students)\n"
   ]
  },
  {
   "cell_type": "markdown",
   "id": "11b467b2",
   "metadata": {},
   "source": [
    "### 📝 Summary\n",
    "\n",
    "| Feature      | Lambda Functions |\n",
    "|--------------|------------------|\n",
    "| Named?       | ❌ Anonymous      |\n",
    "| Return type? | ✅ Auto-returns   |\n",
    "| Arguments    | ✅ Any number     |\n",
    "| Body         | ❌ One expression only |\n",
    "\n",
    "## 6. Lambda Functions with Map, Filter, and Reduce\n",
    "\n",
    "Lambda functions are commonly used with `map()`, `filter()`, and `reduce()` for functional programming tasks.\n",
    "\n",
    "**Examples:**\n"
   ]
  },
  {
   "cell_type": "markdown",
   "id": "d2f6d17b",
   "metadata": {},
   "source": [
    "## More Lambda Function Examples and Exercises\n",
    "\n",
    "### More Examples\n",
    "- **Lambda with multiple arguments:**\n",
    "  ```python\n",
    "  add = lambda x, y: x + y\n",
    "  print(add(5, 3))  # Output: 8\n",
    "  ```\n",
    "- **Lambda with no arguments:**\n",
    "  ```python\n",
    "  greet = lambda: 'Hello!'\n",
    "  print(greet())  # Output: Hello!\n",
    "  ```\n",
    "- **Lambda with map:**\n",
    "  ```python\n",
    "  nums = [1, 2, 3, 4]\n",
    "  squares = list(map(lambda x: x**2, nums))\n",
    "  print(squares)  # Output: [1, 4, 9, 16]\n",
    "  ```\n",
    "- **Lambda with filter:**\n",
    "  ```python\n",
    "  nums = [1, 2, 3, 4, 5, 6]\n",
    "  even = list(filter(lambda x: x % 2 == 0, nums))\n",
    "  print(even)  # Output: [2, 4, 6]\n",
    "  ```\n",
    "- **Lambda with reduce:**\n",
    "  ```python\n",
    "  from functools import reduce\n",
    "  nums = [1, 2, 3, 4]\n",
    "  product = reduce(lambda x, y: x * y, nums)\n",
    "  print(product)  # Output: 24\n",
    "  ```\n",
    "\n",
    "### Exercises\n",
    "1. **Write a lambda function to check if a number is odd. Test it with a few numbers.**\n",
    "2. **Use `map` and a lambda to convert a list of temperatures in Celsius to Fahrenheit.**\n",
    "3. **Use `filter` and a lambda to get all names longer than 5 characters from a list.**\n",
    "4. **Use `reduce` and a lambda to find the maximum number in a list.**\n",
    "5. **Write a lambda that takes three arguments and returns their average.**\n",
    "\n",
    "### Code Cells\n",
    "```python\n",
    "from functools import reduce\n",
    "\n",
    "# map: square each number\n",
    "nums = [1, 2, 3, 4]\n",
    "squared = list(map(lambda x: x**2, nums))\n",
    "print(squared)  # Output: [1, 4, 9, 16]\n",
    "\n",
    "# filter: get even numbers\n",
    "even_nums = list(filter(lambda x: x % 2 == 0, nums))\n",
    "print(even_nums)  # Output: [2, 4]\n",
    "\n",
    "# reduce: multiply all numbers\n",
    "product = reduce(lambda x, y: x * y, nums)\n",
    "print(product)  # Output: 24\n",
    "```\n"
   ]
  },
  {
   "cell_type": "markdown",
   "id": "f2083832",
   "metadata": {},
   "source": [
    "### What is `reduce`?\n",
    "\n",
    "The `reduce` function is used to apply a function cumulatively to the items of a sequence (like a list), from left to right, so as to reduce the sequence to a single value.\n",
    "\n",
    "- It is available in the `functools` module: `from functools import reduce`\n",
    "- The function you provide takes two arguments: the accumulated value and the next item in the sequence.\n",
    "- Common uses: summing a list, multiplying all elements, finding the maximum, etc.\n",
    "\n",
    "#### Example:\n",
    "```python\n",
    "from functools import reduce\n",
    "nums = [1, 2, 3, 4]\n",
    "product = reduce(lambda x, y: x * y, nums)\n",
    "print(product)  # Output: 24\n",
    "```\n",
    "\n",
    "In this example, `reduce` works as follows:\n",
    "- Step 1: 1 * 2 = 2\n",
    "- Step 2: 2 * 3 = 6\n",
    "- Step 3: 6 * 4 = 24\n",
    "\n",
    "So, the final result is 24.\n",
    "\n",
    "#### Note\n",
    "- `reduce` is not a built-in function in Python 3; you must import it from `functools`.\n",
    "- It is useful for combining all elements of a list into a single result using any binary function.\n",
    "\n",
    "## 7. Common Use Cases and Examples\n",
    "\n",
    "- **Quick one-off functions:** When you need a simple function for a short period.\n",
    "- **Functional programming:** With `map`, `filter`, `reduce`, and sorting.\n",
    "- **Data processing:** Transforming or filtering data in lists, tuples, or dictionaries.\n",
    "\n",
    "**Example:**"
   ]
  },
  {
   "cell_type": "code",
   "execution_count": 16,
   "id": "2ef9ab67",
   "metadata": {},
   "outputs": [
    {
     "name": "stdout",
     "output_type": "stream",
     "text": [
      "['Jennifer']\n",
      "[20, 40, 60]\n"
     ]
    }
   ],
   "source": [
    "# Filtering names longer than 4 characters\n",
    "names = ['Sam', 'Alex', 'Jennifer', 'Tom']\n",
    "long_names = list(filter(lambda name: len(name) > 4, names))\n",
    "print(long_names)  # Output: ['Jennifer']\n",
    "\n",
    "# Doubling values in a list\n",
    "values = [10, 20, 30]\n",
    "doubled = list(map(lambda x: x * 2, values))\n",
    "print(doubled)  # Output: [20, 40, 60]"
   ]
  },
  {
   "cell_type": "markdown",
   "id": "97519f42",
   "metadata": {},
   "source": [
    "## Exercises\n",
    "\n",
    "1. Write a lambda function to check if a number is odd.\n",
    "2. Use `map` and a lambda to convert a list of temperatures in Celsius to Fahrenheit.\n",
    "3. Use `filter` and a lambda to get all names longer than 5 characters from a list.\n",
    "4. Use `reduce` and a lambda to find the maximum number in a list.\n",
    "5. Write a lambda that takes three arguments and returns their average.\n",
    "\n",
    "---\n",
    "\n",
    "### Summary\n",
    "\n",
    "- Lambda functions are anonymous, short, and useful for functional programming.\n",
    "- They are often used with built-in functions for data processing and transformation.\n",
    "- Practice using lambda functions with `map`, `filter`, `reduce`, and sorting for mastery."
   ]
  }
 ],
 "metadata": {
  "kernelspec": {
   "display_name": "base",
   "language": "python",
   "name": "python3"
  },
  "language_info": {
   "codemirror_mode": {
    "name": "ipython",
    "version": 3
   },
   "file_extension": ".py",
   "mimetype": "text/x-python",
   "name": "python",
   "nbconvert_exporter": "python",
   "pygments_lexer": "ipython3",
   "version": "3.12.7"
  }
 },
 "nbformat": 4,
 "nbformat_minor": 5
}
