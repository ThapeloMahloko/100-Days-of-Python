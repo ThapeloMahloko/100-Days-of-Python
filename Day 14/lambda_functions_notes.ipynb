{
 "cells": [
  {
   "cell_type": "markdown",
   "id": "c5b7b9d9",
   "metadata": {},
   "source": [
    "# 📘 Lambda Functions in Python"
   ]
  },
  {
   "cell_type": "markdown",
   "id": "c0dc697d",
   "metadata": {},
   "source": [
    "### 🧠 What is a Lambda Function?\n",
    "A **lambda function** is a small anonymous function in Python, typically used for short operations where using a full `def` function would be overkill.\n",
    "\n",
    "**Syntax:**\n",
    "```python\n",
    "lambda arguments: expression\n",
    "```\n",
    "\n",
    "- Can have any number of arguments, but **only one expression**.\n",
    "- The result of the expression is **automatically returned**.\n"
   ]
  },
  {
   "cell_type": "markdown",
   "id": "2a221958",
   "metadata": {},
   "source": [
    "### ✅ Basic Examples"
   ]
  },
  {
   "cell_type": "code",
   "execution_count": null,
   "id": "7ac7ac09",
   "metadata": {},
   "outputs": [],
   "source": [
    "# Add 10 to a number\n",
    "add_10 = lambda x: x + 10\n",
    "print(add_10(5))  # Output: 15\n"
   ]
  },
  {
   "cell_type": "code",
   "execution_count": null,
   "id": "8f8e0146",
   "metadata": {},
   "outputs": [],
   "source": [
    "# Multiply two numbers\n",
    "multiply = lambda x, y: x * y\n",
    "print(multiply(4, 3))  # Output: 12\n"
   ]
  },
  {
   "cell_type": "code",
   "execution_count": null,
   "id": "73dd576a",
   "metadata": {},
   "outputs": [],
   "source": [
    "# Check if a number is even\n",
    "is_even = lambda x: x % 2 == 0\n",
    "print(is_even(4))  # Output: True\n"
   ]
  },
  {
   "cell_type": "markdown",
   "id": "5630f38d",
   "metadata": {},
   "source": [
    "### ⚙️ Common Use Cases"
   ]
  },
  {
   "cell_type": "markdown",
   "id": "fad45b83",
   "metadata": {},
   "source": [
    "#### 1. With `map()`"
   ]
  },
  {
   "cell_type": "code",
   "execution_count": null,
   "id": "0e0245b6",
   "metadata": {},
   "outputs": [],
   "source": [
    "nums = [1, 2, 3, 4]\n",
    "squared = list(map(lambda x: x ** 2, nums))\n",
    "print(squared)  # [1, 4, 9, 16]\n"
   ]
  },
  {
   "cell_type": "markdown",
   "id": "0ce23df1",
   "metadata": {},
   "source": [
    "#### 2. With `filter()`"
   ]
  },
  {
   "cell_type": "code",
   "execution_count": null,
   "id": "627a0eff",
   "metadata": {},
   "outputs": [],
   "source": [
    "even_nums = list(filter(lambda x: x % 2 == 0, nums))\n",
    "print(even_nums)  # [2, 4]\n"
   ]
  },
  {
   "cell_type": "markdown",
   "id": "046051a4",
   "metadata": {},
   "source": [
    "#### 3. With `sorted()`"
   ]
  },
  {
   "cell_type": "code",
   "execution_count": null,
   "id": "fd28fda9",
   "metadata": {},
   "outputs": [],
   "source": [
    "students = [(\"Alice\", 88), (\"Bob\", 75), (\"Charlie\", 93)]\n",
    "sorted_students = sorted(students, key=lambda student: student[1])\n",
    "print(sorted_students)\n",
    "# [('Bob', 75), ('Alice', 88), ('Charlie', 93)]\n"
   ]
  },
  {
   "cell_type": "markdown",
   "id": "b78542f5",
   "metadata": {},
   "source": [
    "### 🧪 Practice Exercises"
   ]
  },
  {
   "cell_type": "markdown",
   "id": "575312d9",
   "metadata": {},
   "source": [
    "#### ✍️ Exercise 1\n",
    "Use a lambda function to cube each number in the list `[2, 3, 4, 5]` using `map()`.\n",
    "\n",
    "<details>\n",
    "<summary>💡 Hint</summary>\n",
    "Use: `map(lambda x: x ** 3, ...)`\n",
    "</details>\n"
   ]
  },
  {
   "cell_type": "markdown",
   "id": "49a3c899",
   "metadata": {},
   "source": [
    "#### ✍️ Exercise 2\n",
    "Filter out only names that start with the letter \"A\" from the list:\n",
    "```python\n",
    "names = [\"Alice\", \"Bob\", \"Alex\", \"Charlie\", \"Anna\"]\n",
    "```\n",
    "\n",
    "<details>\n",
    "<summary>💡 Hint</summary>\n",
    "Use: `filter(lambda x: x.startswith(\"A\"), ...)`\n",
    "</details>\n"
   ]
  },
  {
   "cell_type": "markdown",
   "id": "84e8c4cb",
   "metadata": {},
   "source": [
    "#### ✍️ Exercise 3\n",
    "Sort the following list of dictionaries by `age` using a lambda function:\n",
    "```python\n",
    "people = [\n",
    "    {\"name\": \"John\", \"age\": 45},\n",
    "    {\"name\": \"Emma\", \"age\": 30},\n",
    "    {\"name\": \"Dave\", \"age\": 50}\n",
    "]\n",
    "```\n"
   ]
  },
  {
   "cell_type": "markdown",
   "id": "11b467b2",
   "metadata": {},
   "source": [
    "### 📝 Summary\n",
    "\n",
    "| Feature      | Lambda Functions |\n",
    "|--------------|------------------|\n",
    "| Named?       | ❌ Anonymous      |\n",
    "| Return type? | ✅ Auto-returns   |\n",
    "| Arguments    | ✅ Any number     |\n",
    "| Body         | ❌ One expression only |\n"
   ]
  }
 ],
 "metadata": {},
 "nbformat": 4,
 "nbformat_minor": 5
}