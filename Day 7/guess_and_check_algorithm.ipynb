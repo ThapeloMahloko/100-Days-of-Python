{
 "cells": [
  {
   "cell_type": "markdown",
   "id": "537ee5f0",
   "metadata": {},
   "source": [
    "# Guess and Check Algorithm"
   ]
  },
  {
   "cell_type": "markdown",
   "id": "81e8bc75",
   "metadata": {},
   "source": [
    "\n",
    "The **guess and check algorithm** is a methodical approach to problem-solving where you:\n",
    "\n",
    "1. Make an initial guess for the solution.\n",
    "2. Check if the guess satisfies the given condition(s).\n",
    "3. Adjust the guess if it's incorrect.\n",
    "4. Repeat the process until you find the solution or exhaust all possibilities.\n"
   ]
  },
  {
   "cell_type": "markdown",
   "id": "8ddb98c2",
   "metadata": {},
   "source": [
    "## Steps for the Guess and Check Algorithm"
   ]
  },
  {
   "cell_type": "markdown",
   "id": "0eb9cf98",
   "metadata": {},
   "source": [
    "\n",
    "1. **Make an Initial Guess:** Start with a reasonable value or range.\n",
    "2. **Check the Guess:** Verify if it meets the conditions of the problem.\n",
    "3. **Adjust the Guess:** Modify the guess based on feedback.\n",
    "4. **Repeat:** Continue until the correct solution is found.\n",
    "\n",
    "This method is useful when:\n",
    "- Direct calculation of the solution is not possible.\n",
    "- Constraints need to be satisfied.\n",
    "- Computational complexity makes other methods inefficient.\n"
   ]
  },
  {
   "cell_type": "markdown",
   "id": "dcbad0d9",
   "metadata": {},
   "source": [
    "## Example 1: Finding the Square Root (Approximation)"
   ]
  },
  {
   "cell_type": "code",
   "execution_count": null,
   "id": "448bca4c",
   "metadata": {},
   "outputs": [],
   "source": [
    "\n",
    "# Goal: Find the square root of 50 using guess and check\n",
    "target = 50\n",
    "guess = 0  # Start with an initial guess\n",
    "tolerance = 0.01  # How close we want the result to be\n",
    "\n",
    "while abs(guess**2 - target) > tolerance:  # Check if the guess is close enough\n",
    "    guess += 0.01  # Increment the guess in small steps\n",
    "\n",
    "print(f\"The approximate square root of {target} is {guess}\")\n"
   ]
  },
  {
   "cell_type": "markdown",
   "id": "eb346ac6",
   "metadata": {},
   "source": [
    "## Example 2: Solving a Puzzle"
   ]
  },
  {
   "cell_type": "code",
   "execution_count": null,
   "id": "14598037",
   "metadata": {},
   "outputs": [],
   "source": [
    "\n",
    "# Goal: Find a number between 1 and 100 divisible by both 3 and 7\n",
    "for number in range(1, 101):  # Check numbers between 1 and 100\n",
    "    if number % 3 == 0 and number % 7 == 0:  # Check divisibility\n",
    "        print(f\"The number {number} is divisible by both 3 and 7.\")\n",
    "        break  # Stop once the first solution is found\n"
   ]
  },
  {
   "cell_type": "markdown",
   "id": "ce267f37",
   "metadata": {},
   "source": [
    "## Exercises"
   ]
  },
  {
   "cell_type": "markdown",
   "id": "046ea83e",
   "metadata": {},
   "source": [
    "\n",
    "1. **Guess the cube root:** Write a program to approximate the cube root of 27 using guess and check.\n",
    "2. **Number puzzle:** Find the smallest number between 1 and 200 that is divisible by 5, 6, and 8.\n",
    "3. **Word guessing game:** Implement a simple guessing game where the user tries to guess a predefined word.\n"
   ]
  }
 ],
 "metadata": {},
 "nbformat": 4,
 "nbformat_minor": 5
}
